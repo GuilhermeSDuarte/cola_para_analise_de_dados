{
  "nbformat": 4,
  "nbformat_minor": 0,
  "metadata": {
    "colab": {
      "provenance": [],
      "authorship_tag": "ABX9TyNs+Rgm3Odl69zl7AhQTM0z",
      "include_colab_link": true
    },
    "kernelspec": {
      "name": "python3",
      "display_name": "Python 3"
    },
    "language_info": {
      "name": "python"
    }
  },
  "cells": [
    {
      "cell_type": "markdown",
      "metadata": {
        "id": "view-in-github",
        "colab_type": "text"
      },
      "source": [
        "<a href=\"https://colab.research.google.com/github/GuilhermeSDuarte/cola_para_analise_de_dados/blob/main/colinha_pandas.ipynb\" target=\"_parent\"><img src=\"https://colab.research.google.com/assets/colab-badge.svg\" alt=\"Open In Colab\"/></a>"
      ]
    },
    {
      "cell_type": "markdown",
      "source": [
        "**Pandas**\n",
        "\n",
        "\n",
        "*   Alta performace e facíl uso para trabalhar com dados;\n",
        "*   Tem muitas coisas que lembram o Excel;\n",
        "*   O DataFrame é usado em várias outras bibliotecas de Ciência de Dados;\n",
        "*   https://pandas.pydata.org/\n",
        "\n",
        "*   O Pandas vai desde a importação de base, passando por toda a análise exploratória até a exibição de gráficos.\n",
        "\n"
      ],
      "metadata": {
        "id": "ZsNHT7DrzQgh"
      }
    },
    {
      "cell_type": "code",
      "execution_count": null,
      "metadata": {
        "id": "4gZie3q3zIMz"
      },
      "outputs": [],
      "source": [
        "#Importando o pandas\n",
        "import pandas as pd"
      ]
    },
    {
      "cell_type": "markdown",
      "source": [
        "**Conseguimos importar praticamento todas as bases de dados usando o pandas**\n",
        "\n",
        "Importar uma base em csv:\n",
        "\n",
        "pd.read_csv(\"arquivo_excel.xlsx\")"
      ],
      "metadata": {
        "id": "VTW8RBfi0y6n"
      }
    },
    {
      "cell_type": "code",
      "source": [
        "#Importando a base em csv\n",
        "base = pd.read_csv('...\\Datasets\\VideoGames')"
      ],
      "metadata": {
        "id": "KM2KSvrx1E23"
      },
      "execution_count": null,
      "outputs": []
    },
    {
      "cell_type": "markdown",
      "source": [
        "**E também visualizar todas as informações sobre a base**"
      ],
      "metadata": {
        "id": "rsn82uzl1j71"
      }
    },
    {
      "cell_type": "code",
      "source": [
        "#Visualizando as 5 primeiras linhas\n",
        "base.head()"
      ],
      "metadata": {
        "id": "OMlLUttg1r3U"
      },
      "execution_count": null,
      "outputs": []
    },
    {
      "cell_type": "code",
      "source": [
        "#Visualizando as 5 últimas linhas\n",
        "base.tail()"
      ],
      "metadata": {
        "id": "W1-ifsjv115E"
      },
      "execution_count": null,
      "outputs": []
    },
    {
      "cell_type": "code",
      "source": [
        "#Tamanho da base\n",
        "base.shape"
      ],
      "metadata": {
        "id": "Y0LMs8Fn18jf"
      },
      "execution_count": null,
      "outputs": []
    },
    {
      "cell_type": "code",
      "source": [
        "#Visualizando as primeiras e últimas linhas e tamanho da base\n",
        "display(base)"
      ],
      "metadata": {
        "id": "Ba8PbCUZ18-j"
      },
      "execution_count": null,
      "outputs": []
    },
    {
      "cell_type": "markdown",
      "source": [
        "**Além disso, também podemos ver as informações da base**"
      ],
      "metadata": {
        "id": "6gv-E2ft2aRl"
      }
    },
    {
      "cell_type": "code",
      "source": [
        "#Mostrando somente o tipo dos dados\n",
        "base.dtypes"
      ],
      "metadata": {
        "id": "5l4oWc8Y2Nyn"
      },
      "execution_count": null,
      "outputs": []
    },
    {
      "cell_type": "code",
      "source": [
        "#Mostrando o tipo de dados e os valores vazios\n",
        "base.info()"
      ],
      "metadata": {
        "id": "nai4Xrqm2W4P"
      },
      "execution_count": null,
      "outputs": []
    },
    {
      "cell_type": "code",
      "source": [
        "#Contando os valores vazios por coluna\n",
        "base.isnull().sum()"
      ],
      "metadata": {
        "id": "Rl5EtuAf2hib"
      },
      "execution_count": null,
      "outputs": []
    },
    {
      "cell_type": "markdown",
      "source": [
        "**Principais conceitos estatísticos**"
      ],
      "metadata": {
        "id": "swwqPj-K3K1_"
      }
    },
    {
      "cell_type": "code",
      "source": [
        "dados = {\n",
        "    'x': [1,2,3] #,4,5,6,7,8,9,10,11]\n",
        "}\n",
        "dados = pd.DataFrame(dados)"
      ],
      "metadata": {
        "id": "EcroAHEM3TQY"
      },
      "execution_count": null,
      "outputs": []
    },
    {
      "cell_type": "code",
      "source": [
        "#Mostrando a média\n",
        "dados.mean()"
      ],
      "metadata": {
        "id": "bLa34bfx340M"
      },
      "execution_count": null,
      "outputs": []
    },
    {
      "cell_type": "code",
      "source": [
        "#Mostrando a contagem dos registros\n",
        "dados.count()"
      ],
      "metadata": {
        "id": "xYIUdyjE3_Qk"
      },
      "execution_count": null,
      "outputs": []
    },
    {
      "cell_type": "code",
      "source": [
        "#Mediana\n",
        "dados.median()"
      ],
      "metadata": {
        "id": "LBYiPPAB4lLC"
      },
      "execution_count": null,
      "outputs": []
    },
    {
      "cell_type": "code",
      "source": [
        "#Desvio Padrão\n",
        "dados.std()"
      ],
      "metadata": {
        "id": "Semd0mWc4m1B"
      },
      "execution_count": null,
      "outputs": []
    },
    {
      "cell_type": "code",
      "source": [
        "#Trazendo todo o resumo estatístico utilizando o describe\n",
        "dados.describe()"
      ],
      "metadata": {
        "id": "54TNVvVi4qKf"
      },
      "execution_count": null,
      "outputs": []
    },
    {
      "cell_type": "markdown",
      "source": [
        "**Voltando para base do problema**"
      ],
      "metadata": {
        "id": "Gaf6Oa9z69J5"
      }
    },
    {
      "cell_type": "code",
      "source": [
        "base.describe()"
      ],
      "metadata": {
        "id": "j_BilHke7EEX"
      },
      "execution_count": null,
      "outputs": []
    },
    {
      "cell_type": "markdown",
      "source": [
        "**Escolhendo colunas**\n",
        "\n",
        "Buscando por uma coluna:"
      ],
      "metadata": {
        "id": "21GcCL4d7yKX"
      }
    },
    {
      "cell_type": "code",
      "source": [
        "#Podemos saur o nome da coluna entre aspas\n",
        "base[\"nome_da_coluna\"]"
      ],
      "metadata": {
        "id": "0I7Oe68J75CF"
      },
      "execution_count": null,
      "outputs": []
    },
    {
      "cell_type": "code",
      "source": [
        "#Ou usar o ponto\n",
        "base.Nome_da_coluna"
      ],
      "metadata": {
        "id": "CesVIINX8Cet"
      },
      "execution_count": null,
      "outputs": []
    },
    {
      "cell_type": "code",
      "source": [
        "#Usando uma coluna, podemos contar a quantidade de vezes que cada valor se repete\n",
        "base[\"nome_da_coluna\"].value_counts()"
      ],
      "metadata": {
        "id": "1DFkU6kW8LLq"
      },
      "execution_count": null,
      "outputs": []
    },
    {
      "cell_type": "code",
      "source": [
        "#Selecionando um conjunto de colunas\n",
        "base[[\"coluna1\",\"coluna2\",\"coluna3\"]]"
      ],
      "metadata": {
        "id": "1tSxlkVO8Xie"
      },
      "execution_count": null,
      "outputs": []
    },
    {
      "cell_type": "markdown",
      "source": [
        "**Também conseguimos fazer filtro de linhas**"
      ],
      "metadata": {
        "id": "r7T5NzeV8n7g"
      }
    },
    {
      "cell_type": "code",
      "source": [
        "#Verificando informações que apareceram de acordo com a condição\n",
        "base[base.coluna > 100]"
      ],
      "metadata": {
        "id": "ZY9NGjD_8shT"
      },
      "execution_count": null,
      "outputs": []
    },
    {
      "cell_type": "code",
      "source": [
        "#Verificando informações que apareceram de acordo com a condição\n",
        "base[base.coluna < 5]"
      ],
      "metadata": {
        "id": "BKlPqpp18_u3"
      },
      "execution_count": null,
      "outputs": []
    },
    {
      "cell_type": "markdown",
      "source": [
        "**Podemos fazer filtros usando E / OU**"
      ],
      "metadata": {
        "id": "JHa_aWGK9F4h"
      }
    },
    {
      "cell_type": "code",
      "source": [
        "#Verificando se as duas condições são verdadeiras usando o filtro de \"E\"\n",
        "base[(base.coluna > 1) & (base.coluna2 > 1)]"
      ],
      "metadata": {
        "id": "jRAFGObV9LDw"
      },
      "execution_count": null,
      "outputs": []
    },
    {
      "cell_type": "code",
      "source": [
        "#Verificando se as duas condições são verdadeiras usando o filtro de \"OU\"\n",
        "base[(base.coluna > 1) | (base.coluna2 > 1)]"
      ],
      "metadata": {
        "id": "p2cJP3ao9gW3"
      },
      "execution_count": null,
      "outputs": []
    },
    {
      "cell_type": "markdown",
      "source": [
        "**Uma forma muito útil de fazer seleção de dados é usado o .loc() ou o .iloc()**"
      ],
      "metadata": {
        "id": "4XF3g5V_9oPU"
      }
    },
    {
      "cell_type": "code",
      "source": [
        "#O .loc() permite fazer a busca da mesma forma acima\n",
        "base.loc[(base.coluna > 1) & (base.coluna2 > 1)]"
      ],
      "metadata": {
        "id": "lfXAn5JW9nUC"
      },
      "execution_count": null,
      "outputs": []
    },
    {
      "cell_type": "code",
      "source": [
        "#Ele permite filtrar colunas de forma muito prática\n",
        "base.loc[(base.coluna > 1) | (base.coluna2 > 1), [\"Coluna1\", \"Coluna2\"]].head()"
      ],
      "metadata": {
        "id": "HjWqqb6s-IUE"
      },
      "execution_count": null,
      "outputs": []
    },
    {
      "cell_type": "markdown",
      "source": [
        "**Já o .iloc() vai usar o índice para filtrar**"
      ],
      "metadata": {
        "id": "MmQHUJP4-mJI"
      }
    },
    {
      "cell_type": "code",
      "source": [
        "#Buscando as linhas de 30 a 40\n",
        "base.iloc[30:40]"
      ],
      "metadata": {
        "id": "Bx7Ikmb5-vkb"
      },
      "execution_count": null,
      "outputs": []
    },
    {
      "cell_type": "code",
      "source": [
        "#Também posso usar para buscar apenas colunas especificas\n",
        "base.iloc[30:40,3:6]"
      ],
      "metadata": {
        "id": "FfMMJZ4c-7UB"
      },
      "execution_count": null,
      "outputs": []
    }
  ]
}